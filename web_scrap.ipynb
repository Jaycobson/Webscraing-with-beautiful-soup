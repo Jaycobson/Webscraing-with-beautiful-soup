{
 "cells": [
  {
   "cell_type": "code",
   "execution_count": 1,
   "id": "15a8a7a4",
   "metadata": {},
   "outputs": [],
   "source": [
    "import requests \n",
    "from bs4 import BeautifulSoup\n",
    "import pandas as pd\n",
    "import matplotlib.pyplot as plt\n",
    "import seaborn as sns"
   ]
  },
  {
   "cell_type": "code",
   "execution_count": 2,
   "id": "c8b5704d",
   "metadata": {},
   "outputs": [],
   "source": [
    "#my dictionary to create my dataframe\n",
    "\n",
    "review_dict = {'name':[], 'date':[], 'rating':[], 'review':[]}"
   ]
  },
  {
   "cell_type": "code",
   "execution_count": 3,
   "id": "45e8ff60",
   "metadata": {},
   "outputs": [],
   "source": [
    "#working on the html\n",
    "\n",
    "for page in range(0,29): \n",
    "    url = 'https://www.metacritic.com/game/switch/pokemon-sword/user-reviews?page='+str(page)  #updating the number of pages \n",
    "    user_agent = {'User-agent': 'Mozilla/5.0'}\n",
    "    response  = requests.get(url, headers = user_agent)\n",
    "    soup = BeautifulSoup(response.text, 'html.parser')\n",
    "    \n",
    "    for review in soup.find_all('div', class_='review_content'):\n",
    "        if review.find('div', class_='name') == None:\n",
    "                       break \n",
    "        review_dict['name'].append(review.find('div', class_='name').find('a').text)\n",
    "        review_dict['date'].append(review.find('div', class_='date').text)\n",
    "        review_dict['rating'].append(review.find('div', class_='review_grade').find_all('div')[0].text)\n",
    "        if review.find('span', class_='blurb blurb_expanded'):\n",
    "            review_dict['review'].append(review.find('span', class_='blurb blurb_expanded').text)\n",
    "        else:\n",
    "            review_dict['review'].append(review.find('div', class_='review_body').find('span').text)\n",
    "\n",
    "df = pd.DataFrame(review_dict)  "
   ]
  },
  {
   "cell_type": "code",
   "execution_count": 4,
   "id": "92b0e25b",
   "metadata": {},
   "outputs": [
    {
     "data": {
      "text/html": [
       "<div>\n",
       "<style scoped>\n",
       "    .dataframe tbody tr th:only-of-type {\n",
       "        vertical-align: middle;\n",
       "    }\n",
       "\n",
       "    .dataframe tbody tr th {\n",
       "        vertical-align: top;\n",
       "    }\n",
       "\n",
       "    .dataframe thead th {\n",
       "        text-align: right;\n",
       "    }\n",
       "</style>\n",
       "<table border=\"1\" class=\"dataframe\">\n",
       "  <thead>\n",
       "    <tr style=\"text-align: right;\">\n",
       "      <th></th>\n",
       "      <th>name</th>\n",
       "      <th>date</th>\n",
       "      <th>rating</th>\n",
       "      <th>review</th>\n",
       "    </tr>\n",
       "  </thead>\n",
       "  <tbody>\n",
       "    <tr>\n",
       "      <th>0</th>\n",
       "      <td>Spaxe</td>\n",
       "      <td>Nov 15, 2019</td>\n",
       "      <td>5</td>\n",
       "      <td>My copy of Sword and Shield came in the mail a...</td>\n",
       "    </tr>\n",
       "    <tr>\n",
       "      <th>1</th>\n",
       "      <td>Zerato</td>\n",
       "      <td>Nov 15, 2019</td>\n",
       "      <td>5</td>\n",
       "      <td>The game is meh not even counting the Pokemon ...</td>\n",
       "    </tr>\n",
       "    <tr>\n",
       "      <th>2</th>\n",
       "      <td>Ninjasuite</td>\n",
       "      <td>Nov 15, 2019</td>\n",
       "      <td>3</td>\n",
       "      <td>This is what happen if a company realize that ...</td>\n",
       "    </tr>\n",
       "    <tr>\n",
       "      <th>3</th>\n",
       "      <td>Alvertin</td>\n",
       "      <td>Nov 15, 2019</td>\n",
       "      <td>3</td>\n",
       "      <td>I really wish the games were good. I don't lea...</td>\n",
       "    </tr>\n",
       "    <tr>\n",
       "      <th>4</th>\n",
       "      <td>Mrich747</td>\n",
       "      <td>Nov 15, 2019</td>\n",
       "      <td>0</td>\n",
       "      <td>The critics calling Sword and Sheild \"the best...</td>\n",
       "    </tr>\n",
       "    <tr>\n",
       "      <th>...</th>\n",
       "      <td>...</td>\n",
       "      <td>...</td>\n",
       "      <td>...</td>\n",
       "      <td>...</td>\n",
       "    </tr>\n",
       "    <tr>\n",
       "      <th>2854</th>\n",
       "      <td>Timberx2</td>\n",
       "      <td>Feb  1, 2022</td>\n",
       "      <td>9</td>\n",
       "      <td>I genuinely don't understand the hate for this...</td>\n",
       "    </tr>\n",
       "    <tr>\n",
       "      <th>2855</th>\n",
       "      <td>reneatseyes</td>\n",
       "      <td>Feb 13, 2022</td>\n",
       "      <td>3</td>\n",
       "      <td>The game is alright. Fundamentally it’s a poké...</td>\n",
       "    </tr>\n",
       "    <tr>\n",
       "      <th>2856</th>\n",
       "      <td>Salt_addict</td>\n",
       "      <td>Feb 14, 2022</td>\n",
       "      <td>5</td>\n",
       "      <td>Long term pokemon player: maybe i've out grown...</td>\n",
       "    </tr>\n",
       "    <tr>\n",
       "      <th>2857</th>\n",
       "      <td>Whoopin</td>\n",
       "      <td>Feb 27, 2022</td>\n",
       "      <td>1</td>\n",
       "      <td>Shameless cash grab from a billion-dollar fran...</td>\n",
       "    </tr>\n",
       "    <tr>\n",
       "      <th>2858</th>\n",
       "      <td>Lewisbwh</td>\n",
       "      <td>Mar  2, 2022</td>\n",
       "      <td>3</td>\n",
       "      <td>(Before reading, I am a lifelong fan of the se...</td>\n",
       "    </tr>\n",
       "  </tbody>\n",
       "</table>\n",
       "<p>2859 rows × 4 columns</p>\n",
       "</div>"
      ],
      "text/plain": [
       "             name          date rating  \\\n",
       "0           Spaxe  Nov 15, 2019      5   \n",
       "1          Zerato  Nov 15, 2019      5   \n",
       "2      Ninjasuite  Nov 15, 2019      3   \n",
       "3        Alvertin  Nov 15, 2019      3   \n",
       "4        Mrich747  Nov 15, 2019      0   \n",
       "...           ...           ...    ...   \n",
       "2854     Timberx2  Feb  1, 2022      9   \n",
       "2855  reneatseyes  Feb 13, 2022      3   \n",
       "2856  Salt_addict  Feb 14, 2022      5   \n",
       "2857      Whoopin  Feb 27, 2022      1   \n",
       "2858     Lewisbwh  Mar  2, 2022      3   \n",
       "\n",
       "                                                 review  \n",
       "0     My copy of Sword and Shield came in the mail a...  \n",
       "1     The game is meh not even counting the Pokemon ...  \n",
       "2     This is what happen if a company realize that ...  \n",
       "3     I really wish the games were good. I don't lea...  \n",
       "4     The critics calling Sword and Sheild \"the best...  \n",
       "...                                                 ...  \n",
       "2854  I genuinely don't understand the hate for this...  \n",
       "2855  The game is alright. Fundamentally it’s a poké...  \n",
       "2856  Long term pokemon player: maybe i've out grown...  \n",
       "2857  Shameless cash grab from a billion-dollar fran...  \n",
       "2858  (Before reading, I am a lifelong fan of the se...  \n",
       "\n",
       "[2859 rows x 4 columns]"
      ]
     },
     "execution_count": 4,
     "metadata": {},
     "output_type": "execute_result"
    }
   ],
   "source": [
    "df"
   ]
  },
  {
   "cell_type": "code",
   "execution_count": 5,
   "id": "4d8bc3ee",
   "metadata": {},
   "outputs": [],
   "source": [
    "#changing the date column from string to datetime\n",
    "\n",
    "df['date']=pd.to_datetime(df['date'])"
   ]
  },
  {
   "cell_type": "code",
   "execution_count": 6,
   "id": "b0ffdc3e",
   "metadata": {},
   "outputs": [
    {
     "name": "stdout",
     "output_type": "stream",
     "text": [
      "<class 'pandas.core.frame.DataFrame'>\n",
      "RangeIndex: 2859 entries, 0 to 2858\n",
      "Data columns (total 4 columns):\n",
      " #   Column  Non-Null Count  Dtype         \n",
      "---  ------  --------------  -----         \n",
      " 0   name    2859 non-null   object        \n",
      " 1   date    2859 non-null   datetime64[ns]\n",
      " 2   rating  2859 non-null   object        \n",
      " 3   review  2859 non-null   object        \n",
      "dtypes: datetime64[ns](1), object(3)\n",
      "memory usage: 89.5+ KB\n"
     ]
    }
   ],
   "source": [
    "df.info()"
   ]
  },
  {
   "cell_type": "code",
   "execution_count": 7,
   "id": "333487f6",
   "metadata": {},
   "outputs": [],
   "source": [
    "#changing the ratings from string to integer\n",
    "\n",
    "df['rating'] = df['rating'].astype(int)\n",
    "#sword_reviews['rating'] = pd.to_numeric(sword_reviews['rating'])"
   ]
  },
  {
   "cell_type": "code",
   "execution_count": 8,
   "id": "08008add",
   "metadata": {},
   "outputs": [
    {
     "name": "stdout",
     "output_type": "stream",
     "text": [
      "<class 'pandas.core.frame.DataFrame'>\n",
      "RangeIndex: 2859 entries, 0 to 2858\n",
      "Data columns (total 4 columns):\n",
      " #   Column  Non-Null Count  Dtype         \n",
      "---  ------  --------------  -----         \n",
      " 0   name    2859 non-null   object        \n",
      " 1   date    2859 non-null   datetime64[ns]\n",
      " 2   rating  2859 non-null   int32         \n",
      " 3   review  2859 non-null   object        \n",
      "dtypes: datetime64[ns](1), int32(1), object(2)\n",
      "memory usage: 78.3+ KB\n"
     ]
    }
   ],
   "source": [
    "df.info()"
   ]
  },
  {
   "cell_type": "code",
   "execution_count": 9,
   "id": "7539198f",
   "metadata": {},
   "outputs": [
    {
     "data": {
      "text/html": [
       "<div>\n",
       "<style scoped>\n",
       "    .dataframe tbody tr th:only-of-type {\n",
       "        vertical-align: middle;\n",
       "    }\n",
       "\n",
       "    .dataframe tbody tr th {\n",
       "        vertical-align: top;\n",
       "    }\n",
       "\n",
       "    .dataframe thead th {\n",
       "        text-align: right;\n",
       "    }\n",
       "</style>\n",
       "<table border=\"1\" class=\"dataframe\">\n",
       "  <thead>\n",
       "    <tr style=\"text-align: right;\">\n",
       "      <th></th>\n",
       "      <th>rating</th>\n",
       "    </tr>\n",
       "  </thead>\n",
       "  <tbody>\n",
       "    <tr>\n",
       "      <th>count</th>\n",
       "      <td>2859.000000</td>\n",
       "    </tr>\n",
       "    <tr>\n",
       "      <th>mean</th>\n",
       "      <td>4.270024</td>\n",
       "    </tr>\n",
       "    <tr>\n",
       "      <th>std</th>\n",
       "      <td>3.698748</td>\n",
       "    </tr>\n",
       "    <tr>\n",
       "      <th>min</th>\n",
       "      <td>0.000000</td>\n",
       "    </tr>\n",
       "    <tr>\n",
       "      <th>25%</th>\n",
       "      <td>1.000000</td>\n",
       "    </tr>\n",
       "    <tr>\n",
       "      <th>50%</th>\n",
       "      <td>4.000000</td>\n",
       "    </tr>\n",
       "    <tr>\n",
       "      <th>75%</th>\n",
       "      <td>8.000000</td>\n",
       "    </tr>\n",
       "    <tr>\n",
       "      <th>max</th>\n",
       "      <td>10.000000</td>\n",
       "    </tr>\n",
       "  </tbody>\n",
       "</table>\n",
       "</div>"
      ],
      "text/plain": [
       "            rating\n",
       "count  2859.000000\n",
       "mean      4.270024\n",
       "std       3.698748\n",
       "min       0.000000\n",
       "25%       1.000000\n",
       "50%       4.000000\n",
       "75%       8.000000\n",
       "max      10.000000"
      ]
     },
     "execution_count": 9,
     "metadata": {},
     "output_type": "execute_result"
    }
   ],
   "source": [
    "df.describe()\n"
   ]
  },
  {
   "cell_type": "markdown",
   "id": "db3079d4",
   "metadata": {},
   "source": [
    "This shows that the average raing is 4.27"
   ]
  },
  {
   "cell_type": "code",
   "execution_count": 10,
   "id": "9a0643dd",
   "metadata": {},
   "outputs": [
    {
     "data": {
      "image/png": "[encoded data removed]",
      "text/plain": [
       "<Figure size 432x288 with 1 Axes>"
      ]
     },
     "metadata": {
      "needs_background": "light"
     },
     "output_type": "display_data"
    }
   ],
   "source": [
    "plt.hist(df['rating'],bins=10)\n",
    "plt.xlabel('Ratings')\n",
    "plt.ylabel('Frequency')\n",
    "plt.title('Plot showing the frequency of ratings');"
   ]
  },
  {
   "cell_type": "markdown",
   "id": "86f7e960",
   "metadata": {},
   "source": [
    "The histogram above shows that there were more ratings of 0 and 10 while other ratings were far lower"
   ]
  },
  {
   "cell_type": "code",
   "execution_count": 11,
   "id": "1e4c0457",
   "metadata": {},
   "outputs": [
    {
     "data": {
      "text/plain": [
       "0     679\n",
       "10    415\n",
       "1     276\n",
       "3     241\n",
       "4     239\n",
       "2     230\n",
       "9     206\n",
       "8     187\n",
       "5     144\n",
       "6     121\n",
       "7     121\n",
       "Name: rating, dtype: int64"
      ]
     },
     "execution_count": 11,
     "metadata": {},
     "output_type": "execute_result"
    }
   ],
   "source": [
    "df['rating'].value_counts().sort_values(ascending = False)"
   ]
  },
  {
   "cell_type": "code",
   "execution_count": 12,
   "id": "1b37278b",
   "metadata": {},
   "outputs": [
    {
     "data": {
      "image/png": "[encoded data removed]",
      "text/plain": [
       "<Figure size 432x288 with 1 Axes>"
      ]
     },
     "metadata": {
      "needs_background": "light"
     },
     "output_type": "display_data"
    }
   ],
   "source": [
    "#count plot showing the frequency of occurences of the ratings\n",
    "sns.countplot(x='rating',data=df);"
   ]
  },
  {
   "cell_type": "code",
   "execution_count": 13,
   "id": "8f0850b3",
   "metadata": {},
   "outputs": [
    {
     "data": {
      "image/png": "[encoded data removed]",
      "text/plain": [
       "<Figure size 576x360 with 1 Axes>"
      ]
     },
     "metadata": {
      "needs_background": "light"
     },
     "output_type": "display_data"
    }
   ],
   "source": [
    "#separating the ratings into good, bad and neutral.\n",
    "# good ratings are between 7 to 10 inclusive\n",
    "# bad ratings are from 0 to 3 inclusive\n",
    "# neutral ratings are just between 3 to 7 exclusive\n",
    "good = []\n",
    "bad = []\n",
    "neutral = []\n",
    "\n",
    "for rating in df['rating']:\n",
    "    if rating >= 7:\n",
    "        good.append(rating)\n",
    "    elif rating <= 3:\n",
    "        bad.append(rating)\n",
    "    elif rating > 3 and rating < 7:\n",
    "        neutral.append(rating)\n",
    "        \n",
    "good_ratings = len(good)\n",
    "bad_ratings = len(bad)\n",
    "neutral_ratings = len(neutral)\n",
    "\n",
    "#plotting \n",
    "plt.figure(figsize=(8,5))\n",
    "plt.bar(x= ['Good','Bad','Neutral'],height = [good_ratings,bad_ratings,neutral_ratings],color = 'indianred')\n",
    "plt.xlabel('Ratings')\n",
    "plt.ylabel('Frequency')\n",
    "plt.title('Plot showing the frequency of good,bad and neutral ratings');"
   ]
  },
  {
   "cell_type": "markdown",
   "id": "c01dbdba",
   "metadata": {},
   "source": [
    "After classifying the reviews into good, bad and neutral ratings.\n",
    "\n",
    "Most reviews are in the bad category and good category while only a few people were neutral "
   ]
  },
  {
   "cell_type": "code",
   "execution_count": 15,
   "id": "977fd3e7",
   "metadata": {},
   "outputs": [],
   "source": [
    "df['year'] = pd.DatetimeIndex(df['date']).year"
   ]
  },
  {
   "cell_type": "code",
   "execution_count": 17,
   "id": "7ebe3f6b",
   "metadata": {},
   "outputs": [
    {
     "data": {
      "image/png": "[encoded data removed]",
      "text/plain": [
       "<Figure size 432x288 with 1 Axes>"
      ]
     },
     "metadata": {
      "needs_background": "light"
     },
     "output_type": "display_data"
    }
   ],
   "source": [
    "df['year'].value_counts().plot(\n",
    "kind = 'bar');"
   ]
  },
  {
   "cell_type": "markdown",
   "id": "062e5633",
   "metadata": {},
   "source": [
    "This shows that most of our data was obtained in 2019, hence it was a trending topic in 2019\n",
    "\n",
    "There were few reviews from users in 2020,2021 and 2022. Users that gave their reviews at this time are likely to have been the ones that had complaint when using the product after it had been lauched and criticized."
   ]
  }
 ],
 "metadata": {
  "kernelspec": {
   "display_name": "Python 3 (ipykernel)",
   "language": "python",
   "name": "python3"
  },
  "language_info": {
   "codemirror_mode": {
    "name": "ipython",
    "version": 3
   },
   "file_extension": ".py",
   "mimetype": "text/x-python",
   "name": "python",
   "nbconvert_exporter": "python",
   "pygments_lexer": "ipython3",
   "version": "3.7.3"
  }
 },
 "nbformat": 4,
 "nbformat_minor": 5
}
